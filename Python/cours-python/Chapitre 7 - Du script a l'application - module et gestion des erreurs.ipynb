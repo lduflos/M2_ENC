{
 "cells": [
  {
   "cell_type": "markdown",
   "metadata": {},
   "source": [
    "Chapitre 7 - Du script à l'application - module, gestion des erreurs et recherche SQL\n",
    "==="
   ]
  },
  {
   "cell_type": "markdown",
   "metadata": {},
   "source": [
    "Notre application et nos compétences ont sérieusement grossies : nous sommes désormais capables de traiter du JSON, du CSV, de récupérer des informations depuis le web mais aussi de créer notre propre application web, bien qu'elle reste simple pour le moment.\n",
    "\n",
    "Cette dite application web contient désormais 39 lignes de Python pour 2 pages et un type de ressource SQL. Vous vous rendrez vite compte que la manipulation de fichiers comme celui-ci rend les choses complexes. De fait, on préfère en général divisé les fichiers pythons comme nous divisons les templates : en les incluant ou en faisant appel à eux quand nous en avons besoin.\n",
    "\n",
    "## Les modules et packages\n",
    "\n",
    "Ce découpage en python s'appelle la modularisation : il s'agit de créer des modules qui à terme forme des packages (groupe de modules) et ainsi pouvoir se retrouver dans des applications un peu plus large que 39 lignes.\n",
    "\n",
    "Nous avons déjà utilisés des modules. Ainsi quand on tapez\n",
    "\n",
    "```python\n",
    "from flask import Flask\n",
    "```\n",
    "\n",
    "Nous importions depuis le module principal du package `flask` la classe `Flask` qui nous permettait de créer notre application. Un module est en fait un fichier python. Ainsi, si je crée un fichier `modeles.py` pour y ranger l'ensemble de mes modèles de données SQL (et pouvoir m'y retrouver facilement), je pourrai à terme faire `from modeles import Place` !\n",
    "\n",
    "Les modules peuvent comprendre tout ce que python peut faire, à savoir : \n",
    "\n",
    "- des variables\n",
    "- des fonctions\n",
    "- des classes\n",
    "\n",
    "### Créer un package, c'est simple !\n",
    "\n",
    "La création de package est en fait extrêment simple : \n",
    "\n",
    "0. On crée un fichier `run.py` qui nous permettra d'utiliser ce qui est dans gazetteer\n",
    "1. On crée un dossier : `gazetteer/` par exemple => géré comme un package car il possède un fichier `__init__.py`.\n",
    "2. On ajoute dans ce dossier un fichier `__init__.py`\n",
    "3. On écrit dans ce fichier `__init__.py`.\n",
    "4. On écrit dans ce fichier `ma_variable = 0`\n",
    "\n",
    "Les fichiers `__init__.py` sont nécessaire pour que ce dossier soit compris comme package. Le résultat serait donc\n",
    "\n",
    "```\n",
    "gazetteer/\n",
    "   |- __init__.py\n",
    "run.py\n",
    "```\n",
    "\n",
    "Avec `__init__.py` qui comprend le code suivant :"
   ]
  },
  {
   "cell_type": "code",
   "execution_count": 1,
   "metadata": {},
   "outputs": [],
   "source": [
    "# Raccourci pour afficher le contenu de l'exemple\n",
    "%pycat cours-packages/exemple-01/gazetteer/__init__.py"
   ]
  },
  {
   "cell_type": "markdown",
   "metadata": {},
   "source": [
    "Cela permettra à `run.py` d'utiliser la variable en faisant :"
   ]
  },
  {
   "cell_type": "code",
   "execution_count": 2,
   "metadata": {},
   "outputs": [],
   "source": [
    "# Raccourci pour afficher le contenu de l'exemple\n",
    "%pycat cours-packages/exemple-01/run.py"
   ]
  },
  {
   "cell_type": "markdown",
   "metadata": {},
   "source": [
    "Et le résultat de son appel sera :"
   ]
  },
  {
   "cell_type": "code",
   "execution_count": 3,
   "metadata": {},
   "outputs": [
    {
     "name": "stdout",
     "output_type": "stream",
     "text": [
      "0\n"
     ]
    }
   ],
   "source": [
    "%run cours-packages/exemple-01/run.py"
   ]
  },
  {
   "cell_type": "markdown",
   "metadata": {},
   "source": [
    "#### Pour lancer l'exemple\n",
    "\n",
    "On ouvrira un terminal, s'assurera d'être dans un environnement virtuel et on tapera depuis le dossier source\n",
    "\n",
    "```sh\n",
    "cd cours-pages/exemple-01\n",
    "python run.py\n",
    "```\n",
    "\n",
    "#### Résumé d'un module simple avec dossier\n",
    "\n",
    "- Un module simple avec dossier comprenant un `__init__.py` est appelé ou importé en utilisant le nom du dossier. \n",
    "- On peut y stocker des variables, classes et fonctions."
   ]
  },
  {
   "cell_type": "markdown",
   "metadata": {},
   "source": [
    "### Un package, des modules"
   ]
  },
  {
   "cell_type": "markdown",
   "metadata": {},
   "source": [
    "Il est possible pour un package de comporter plusieurs modules, ainsi pour notre Gazetteer il est possible de diviser par exemple les modeles des routes. Pour le moment, créons cet ensemble :\n",
    "\n",
    "0. On crée un fichier `run.py` qui nous permettra d'utiliser ce qui est dans gazetteer\n",
    "1. On crée un dossier : `gazetteer/` par exemple.\n",
    "2. On ajoute dans ce dossier un fichier `__init__.py`\n",
    "3. On crée un fichier `application.py`\n",
    "4. On écrit dans ce fichier `mon_module = \"application\"`\n",
    "5. On crée un fichier `modeles.py`\n",
    "6. On écrit dans ce fichier `mon_module = \"modeles\"`\n",
    "\n",
    "```\n",
    "gazetteer/\n",
    "   |- __init__.py\n",
    "   |- application.py\n",
    "   |- modeles.py\n",
    "run.py\n",
    "```"
   ]
  },
  {
   "cell_type": "code",
   "execution_count": null,
   "metadata": {},
   "outputs": [],
   "source": [
    "# Raccourci pour afficher le contenu de l'exemple\n",
    "%pycat cours-packages/exemple-02/gazetteer/application.py"
   ]
  },
  {
   "cell_type": "code",
   "execution_count": null,
   "metadata": {},
   "outputs": [],
   "source": [
    "# Raccourci pour afficher le contenu de l'exemple\n",
    "%pycat cours-packages/exemple-02/gazetteer/modeles.py"
   ]
  },
  {
   "cell_type": "markdown",
   "metadata": {},
   "source": [
    "Cela permettra à `run.py` d'utiliser la variable en important les modules du packages. On importe des modules et sous-modules en rétablissant le chemin via des `.` :\n",
    "\n",
    "```python\n",
    "from gazetteer.application import mon_module\n",
    "```\n",
    "ou\n",
    "```python\n",
    "import gazetteer.application\n",
    "print(gazetteer.application.mon_module) #mon_module écrase celui d'application\n",
    "```\n",
    "\n",
    "Ainsi, on écrira dans notre `run` :"
   ]
  },
  {
   "cell_type": "code",
   "execution_count": 4,
   "metadata": {},
   "outputs": [],
   "source": [
    "# Raccourci pour afficher le contenu de l'exemple\n",
    "%pycat cours-packages/exemple-02/run.py"
   ]
  },
  {
   "cell_type": "markdown",
   "metadata": {},
   "source": [
    "Et le résultat de son appel sera :"
   ]
  },
  {
   "cell_type": "code",
   "execution_count": 5,
   "metadata": {},
   "outputs": [
    {
     "name": "stdout",
     "output_type": "stream",
     "text": [
      "modeles\r\n"
     ]
    }
   ],
   "source": [
    "# Cette commande permet de lancer le script directement depuis ce module\n",
    "! cd cours-packages/exemple-02 && python run.py"
   ]
  },
  {
   "cell_type": "markdown",
   "metadata": {},
   "source": [
    "#### Pour lancer l'exemple en terminal\n",
    "\n",
    "On ouvrira un terminal, s'assurera d'être dans un environnement virtuel et on tapera depuis le dossier source\n",
    "\n",
    "```sh\n",
    "cd cours-pages/exemple-02\n",
    "python run.py\n",
    "```\n",
    "\n",
    "#### Problème ?\n",
    "\n",
    "Nous rencontrons un premier problème : `mon_module` étant importé depuis deux modules (`gazetter.application` et `gazetteer.modeles`), les deux rentrent en conflit et la dernière prend le dessus. Nous avons plusieurs solutions à ce problème \n",
    "\n",
    "1. `from gazetteer import application` et `print(application.mon_module)` qui permet de garder le nom du sous-module\n",
    "2. `import gazetteer.application` et `print(gazetteer.application.mon_module)` : long à écrire mais impossible d'avoir des conflits et compréhensible\n",
    "3. `from gazetteer.application import mon_module as autre_nom` : on renomme, on perd l'information d'origine mais on reste sur un nom court.\n",
    "\n",
    "Pour continuer l'exemple, on écrit un fichier `run2.py` qui reprend cette syntaxe :"
   ]
  },
  {
   "cell_type": "code",
   "execution_count": 6,
   "metadata": {},
   "outputs": [],
   "source": [
    "# Raccourci pour afficher le contenu de l'exemple\n",
    "%pycat cours-packages/exemple-02/run2.py"
   ]
  },
  {
   "cell_type": "markdown",
   "metadata": {},
   "source": [
    "Et le résultat de son appel sera :"
   ]
  },
  {
   "cell_type": "code",
   "execution_count": 7,
   "metadata": {},
   "outputs": [
    {
     "name": "stdout",
     "output_type": "stream",
     "text": [
      "application\r\n",
      "modeles\r\n"
     ]
    }
   ],
   "source": [
    "# Cette commande permet de lancer le script directement depuis ce module\n",
    "! cd cours-packages/exemple-02 && python run2.py"
   ]
  },
  {
   "cell_type": "markdown",
   "metadata": {},
   "source": [
    "#### Pour lancer l'exemple en terminal\n",
    "\n",
    "On ouvrira un terminal, s'assurera d'être dans un environnement virtuel et on tapera depuis le dossier source\n",
    "\n",
    "```sh\n",
    "cd cours-pages/exemple-02\n",
    "python run2.py\n",
    "```\n",
    "\n",
    "#### Résumé d'un packages avec plusieurs modules\n",
    "\n",
    "- Un package se construit avec un dossier comprenant un `__init__.py`\n",
    "- Les fichiers qui le constituent sont importables comme modules (`from package import module`)\n",
    "- Les imports de ressources dans des modules peuvent être construits de trois manières :\n",
    "    - `import package.module`\n",
    "        - Appelée via `package.module.ressource`\n",
    "    - `from package import module`\n",
    "        - Appelée via `module.ressource`\n",
    "    - `from package.module import resource`\n",
    "        - Appelée via `ressource`\n",
    "- En cas de conflit, on peut:\n",
    "    - changer de méthode d'import\n",
    "    - renommer la ressource importée via `import ___ as ___` ou `from ___ import ___ as ____`"
   ]
  },
  {
   "cell_type": "markdown",
   "metadata": {},
   "source": [
    "### De module à module : l'import relatif\n",
    "\n",
    "Nous avons pour l'instant fait des imports uniquement depuis l'extérieur du package vers ce package. Il est cependant possible de faire ces imports de manière relative et il est d'ailleurs conseillé de le faire dans le cadre d'une application web.\n",
    "\n",
    "Ces imports fonctionnent alors exactement comme les imports précédent mais en utilisant la syntaxe des chemins relatifs `..` et `.` où :\n",
    "\n",
    "- `.` représente le dossier courrant\n",
    "- `..` représente le dossier parent\n",
    "- `...` représente le dossier grand-parent\n",
    "- etc.\n",
    "\n",
    "Ainsi, dans le cadre de nos modèles par exemple, il serait souhaitable de pouvoir diviser nos ressources entre les données utilisateurs et les données scientifiques pour se retrouver plus facilement dans les fichiers. Cela donnerait : \n",
    "\n",
    "```\n",
    "gazetteer/\n",
    "   |- __init__.py\n",
    "   |- application.py\n",
    "   |- modeles/\n",
    "       |- __init__.py #devient un module!\n",
    "       |- donnees.py\n",
    "       |- utilisateurs.py\n",
    "run.py\n",
    "```\n",
    "\n",
    "Si l'on a besoin d'une information d'application depuis `modeles.donnees`, on importera l'information via :\n",
    "\n",
    "```python\n",
    "from ..application import nom_dapplication\n",
    "```\n",
    "\n",
    "Si au contraire, on recherche une information liée à l'utilisateur, on écrira \n",
    "\n",
    "```python\n",
    "from .utilisateurs import mon_utilisateur\n",
    "```"
   ]
  },
  {
   "cell_type": "code",
   "execution_count": 8,
   "metadata": {},
   "outputs": [],
   "source": [
    "# Raccourci pour afficher le contenu de l'exemple\n",
    "%pycat cours-packages/exemple-03/gazetteer/application.py"
   ]
  },
  {
   "cell_type": "code",
   "execution_count": 9,
   "metadata": {},
   "outputs": [],
   "source": [
    "# Raccourci pour afficher le contenu de l'exemple\n",
    "%pycat cours-packages/exemple-03/gazetteer/modeles/utilisateurs.py"
   ]
  },
  {
   "cell_type": "code",
   "execution_count": 10,
   "metadata": {},
   "outputs": [],
   "source": [
    "# Raccourci pour afficher le contenu de l'exemple\n",
    "%pycat cours-packages/exemple-03/gazetteer/modeles/donnees.py"
   ]
  },
  {
   "cell_type": "markdown",
   "metadata": {},
   "source": [
    "Et on importe simplement la fonction dans `gazetteer.modeles.donnees` depuis `run.py` :"
   ]
  },
  {
   "cell_type": "code",
   "execution_count": 11,
   "metadata": {},
   "outputs": [],
   "source": [
    "# Raccourci pour afficher le contenu de l'exemple\n",
    "%pycat cours-packages/exemple-03/run.py"
   ]
  },
  {
   "cell_type": "markdown",
   "metadata": {},
   "source": [
    "Et le résultat de son appel sera :"
   ]
  },
  {
   "cell_type": "code",
   "execution_count": 12,
   "metadata": {},
   "outputs": [
    {
     "name": "stdout",
     "output_type": "stream",
     "text": [
      "Thibault utilise Gazetteer\r\n"
     ]
    }
   ],
   "source": [
    "# Cette commande permet de lancer le script directement depuis ce module\n",
    "! cd cours-packages/exemple-03 && python run.py"
   ]
  },
  {
   "cell_type": "markdown",
   "metadata": {},
   "source": [
    "#### Pour lancer l'exemple en terminal\n",
    "\n",
    "On ouvrira un terminal, s'assurera d'être dans un environnement virtuel et on tapera depuis le dossier source\n",
    "\n",
    "```sh\n",
    "cd cours-pages/exemple-02\n",
    "python run2.py\n",
    "```\n",
    "\n",
    "#### Résumé d'un packages avec plusieurs modules\n",
    "\n",
    "- Un package peut avoir des sous-modules\n",
    "- Les imports relatifs se font à l'aide des `.` :\n",
    "    - `.` représente le dossier courrant\n",
    "    - `..` représente le dossier parent\n",
    "    - `...` représente le dossier grand-parent\n",
    "    - etc.\n",
    "- Depuis l'extérieur du package, on utilise l'import absolu"
   ]
  },
  {
   "cell_type": "markdown",
   "metadata": {},
   "source": [
    "### Notre application en packages\n",
    "\n",
    "Vous imaginez bien que si l'on peut diviser, il est recommandable de le faire. Et pour le faire, il vaut mieux pouvoir découper au mieux ce que vous pouvez faire. On recommande en général de découper :\n",
    "\n",
    "1. Les modèles de données (et si possible les différents modèles de données : modèles scientifiques et modèles utilisateurs)\n",
    "2. Les routes\n",
    "3. La création de l'application\n",
    "\n",
    "Regardez un peu le dossier `cours-packages/exemple-04`\n",
    "\n",
    "\n",
    "#### Pour lancer l'exemple en terminal\n",
    "\n",
    "On ouvrira un terminal, s'assurera d'être dans un environnement virtuel et on tapera depuis le dossier source\n",
    "\n",
    "```sh\n",
    "cd cours-pages/exemple-04\n",
    "python run.py\n",
    "```\n",
    "\n",
    "#### Un petit bug ?\n",
    "\n",
    "On nous annonce un problème avec les templates. Pour résoudre le problème, on spécifie le dossier ! En effet, `Flask()` prend deux paramètres nommés `templates` et `static` ! :\n",
    "\n",
    "```python\n",
    "app = Flask(\"Nom\", template_folder=\"templates\", static_folder=\"static\") # Valeur par défaut ici\n",
    "```\n",
    "\n",
    "Mais en python, les dossiers relatifs sont pris depuis le fichier qui est exécuté. Hors, on exécute `run.py` et non `app.py`. Il faudrait donc écrire `./gazetteer/templates/` et `./gazetteer/static`. Mais si on change encore !\n",
    "\n",
    "La technique vise à obtenir, via python, le chemin actuel de l'application. Il suffit pour cela d'exécuter le code suivant :"
   ]
  },
  {
   "cell_type": "code",
   "execution_count": 13,
   "metadata": {},
   "outputs": [
    {
     "name": "stdout",
     "output_type": "stream",
     "text": [
      "/home/tnah/Documents/M2_ENC/Python/cours-python/cours-flask/exemple12\n",
      "/home/tnah/Documents/M2_ENC/Python/cours-python/cours-flask/exemple12/gazetteer/templates\n"
     ]
    }
   ],
   "source": [
    "% pycat cours-flask/exemple12/path.py\n",
    "% run cours-flask/exemple12/path.py"
   ]
  },
  {
   "cell_type": "markdown",
   "metadata": {},
   "source": [
    "##### Découpons le code !\n",
    "\n",
    "\n",
    "- `import os` : on importe un package `os` permettant de faire des opérations liées au système\n",
    "- `os.path.dirname()` : on récupère le nom de dossier du résultat de \n",
    "    - `os.path.abspath(__file__)` qui récupère le chemin absolu du dossier du fichier qui comprend ce code\n",
    "        - **Attention:** `__file__` n'existe pas dans Jupyter Notebook\n",
    "- `os.path.join()` permet de réaliser la jointure du chaîne avec les caractères de chemin de l'OS exécutant:\n",
    "    - Sur Windows, il choisira `\\`\n",
    "    - Sur Linux et Mac, il choisira `/`\n",
    "    \n",
    "    \n",
    "#### Pour lancer l'exemple en terminal\n",
    "\n",
    "On ouvrira un terminal, s'assurera d'être dans un environnement virtuel et on tapera depuis le dossier source\n",
    "\n",
    "```sh\n",
    "cd cours-flask/exemple12\n",
    "python run.py\n",
    "```\n",
    "\n",
    "#### Attention !\n",
    "\n",
    "On fera attention à importer les routes en fin de création d'application, sinon on aura une belle boucle d'import : \n",
    "\n",
    "1. `gazetteer.app` importe `gazetteer.routes` ligne 3\n",
    "2. `gazetteer.routes` importe `gazetteer.app` ligne 2\n",
    "3. `gazetteer.app` importe `gazetteer.routes` ligne 3\n",
    "4. `gazetteer.routes` importe `gazetteer.app` ligne 2\n",
    "5. `gazetteer.app` importe `gazetteer.routes` ligne 3\n",
    "6. `gazetteer.routes` importe `gazetteer.app` ligne 2\n",
    "7. *etc.*"
   ]
  },
  {
   "cell_type": "markdown",
   "metadata": {},
   "source": [
    "## Les erreurs\n",
    "\n",
    "On a souvent rencontré des erreurs. Et on en a même provoquées volontairement, par exemple, si on tentait de diviser d'obtenir un élément inexistant :"
   ]
  },
  {
   "cell_type": "code",
   "execution_count": null,
   "metadata": {},
   "outputs": [],
   "source": [
    "liste = [0,1,2]\n",
    "liste[3]"
   ]
  },
  {
   "cell_type": "markdown",
   "metadata": {},
   "source": [
    "### Que faire quand on a une erreur\n",
    "\n",
    "On peut éviter ignorer les erreurs en imbriquant un code dans un double bloc `try except` qui s'écrit comme un `if else` sauf que : \n",
    "- le bloc `except` est obligatoire si un `try` est ouvert\n",
    "- le bloc `except` n'est executé que si une erreur apparaît"
   ]
  },
  {
   "cell_type": "code",
   "execution_count": null,
   "metadata": {},
   "outputs": [],
   "source": [
    "try:\n",
    "    print(liste[3])\n",
    "except:\n",
    "    print(\"Je me suis trompé !\")\n",
    "    print(liste[2])"
   ]
  },
  {
   "cell_type": "markdown",
   "metadata": {},
   "source": [
    "### Que faire quand on veut gérer une erreur spécifique\n",
    "\n",
    "Il est possible de vouloir gérer des erreurs de manière différente. Par exemple, dans le code suivant, nous avons une liste qui contient des dictionnaires, on peut avoir une erreur liée à l'index utilisé (IndexError) ou une erreur liée à une clé particulière. \n",
    "\n",
    "On fait alors suivre `except` par le nom ou les noms (séparés par des virgules) des erreurs que l'on veut gérer à part. Si une erreur ne fait pas partie des erreurs attendues, l'erreur n'est pas ignorée :"
   ]
  },
  {
   "cell_type": "code",
   "execution_count": 14,
   "metadata": {},
   "outputs": [
    {
     "name": "stdout",
     "output_type": "stream",
     "text": [
      "R2D2 a un prix de 85000 soit 850000.0 Truguts\n",
      "---\n",
      "L'objet 1 n'a pas toutes les données nécessaires\n",
      "---\n",
      "`Ce qui n'est pas dans nos collections n'existe pas`\n",
      "---\n"
     ]
    },
    {
     "ename": "ZeroDivisionError",
     "evalue": "division by zero",
     "output_type": "error",
     "traceback": [
      "\u001b[0;31m---------------------------------------------------------------------------\u001b[0m",
      "\u001b[0;31mZeroDivisionError\u001b[0m                         Traceback (most recent call last)",
      "\u001b[0;32m<ipython-input-14-6fad083a2073>\u001b[0m in \u001b[0;36m<module>\u001b[0;34m()\u001b[0m\n\u001b[1;32m     38\u001b[0m \u001b[0mconvertir\u001b[0m\u001b[0;34m(\u001b[0m\u001b[0;36m3\u001b[0m\u001b[0;34m)\u001b[0m\u001b[0;34m\u001b[0m\u001b[0m\n\u001b[1;32m     39\u001b[0m \u001b[0mprint\u001b[0m\u001b[0;34m(\u001b[0m\u001b[0;34m\"---\"\u001b[0m\u001b[0;34m)\u001b[0m\u001b[0;34m\u001b[0m\u001b[0m\n\u001b[0;32m---> 40\u001b[0;31m \u001b[0mconvertir\u001b[0m\u001b[0;34m(\u001b[0m\u001b[0;36m2\u001b[0m\u001b[0;34m,\u001b[0m \u001b[0;36m0\u001b[0m\u001b[0;34m)\u001b[0m\u001b[0;34m\u001b[0m\u001b[0m\n\u001b[0m",
      "\u001b[0;32m<ipython-input-14-6fad083a2073>\u001b[0m in \u001b[0;36mconvertir\u001b[0;34m(index_objet, cour_credit_republicain)\u001b[0m\n\u001b[1;32m     22\u001b[0m             \u001b[0mobjet\u001b[0m\u001b[0;34m=\u001b[0m\u001b[0mobjets\u001b[0m\u001b[0;34m[\u001b[0m\u001b[0mindex_objet\u001b[0m\u001b[0;34m]\u001b[0m\u001b[0;34m[\u001b[0m\u001b[0;34m\"nom\"\u001b[0m\u001b[0;34m]\u001b[0m\u001b[0;34m,\u001b[0m\u001b[0;34m\u001b[0m\u001b[0m\n\u001b[1;32m     23\u001b[0m             \u001b[0mcredits\u001b[0m\u001b[0;34m=\u001b[0m\u001b[0mobjets\u001b[0m\u001b[0;34m[\u001b[0m\u001b[0mindex_objet\u001b[0m\u001b[0;34m]\u001b[0m\u001b[0;34m[\u001b[0m\u001b[0;34m\"prix\"\u001b[0m\u001b[0;34m]\u001b[0m\u001b[0;34m,\u001b[0m\u001b[0;34m\u001b[0m\u001b[0m\n\u001b[0;32m---> 24\u001b[0;31m             \u001b[0mtrugut\u001b[0m\u001b[0;34m=\u001b[0m\u001b[0mobjets\u001b[0m\u001b[0;34m[\u001b[0m\u001b[0mindex_objet\u001b[0m\u001b[0;34m]\u001b[0m\u001b[0;34m[\u001b[0m\u001b[0;34m\"prix\"\u001b[0m\u001b[0;34m]\u001b[0m\u001b[0;34m/\u001b[0m\u001b[0mcour_credit_republicain\u001b[0m\u001b[0;34m\u001b[0m\u001b[0m\n\u001b[0m\u001b[1;32m     25\u001b[0m         ))\n\u001b[1;32m     26\u001b[0m         \u001b[0;32mreturn\u001b[0m \u001b[0mobjets\u001b[0m\u001b[0;34m[\u001b[0m\u001b[0mindex_objet\u001b[0m\u001b[0;34m]\u001b[0m\u001b[0;34m[\u001b[0m\u001b[0;34m\"prix\"\u001b[0m\u001b[0;34m]\u001b[0m\u001b[0;34m/\u001b[0m\u001b[0mcour_credit_republicain\u001b[0m\u001b[0;34m\u001b[0m\u001b[0m\n",
      "\u001b[0;31mZeroDivisionError\u001b[0m: division by zero"
     ]
    }
   ],
   "source": [
    "objets = [\n",
    "    {\n",
    "        \"nom\": \"R2D2\",\n",
    "        \"prix\": 85000\n",
    "    },\n",
    "    {\n",
    "        \"nom\": \"La Force\"\n",
    "    },\n",
    "    {\n",
    "        \"nom\": \"BB8\",\n",
    "        \"prix\": 20000\n",
    "    }\n",
    "]\n",
    "\n",
    "def convertir(index_objet, cour_credit_republicain=0.1):\n",
    "    \"\"\" Convertit le prix d'un objet du monde de Star Wars en Trugut\n",
    "    \n",
    "    http://fr.starwars.wikia.com/wiki/Cr%C3%A9dit_Galactique_Standard\n",
    "    \"\"\"\n",
    "    try:\n",
    "        print(\"{objet} a un prix de {credits} soit {trugut} Truguts\".format(\n",
    "            objet=objets[index_objet][\"nom\"],\n",
    "            credits=objets[index_objet][\"prix\"],\n",
    "            trugut=objets[index_objet][\"prix\"]/cour_credit_republicain\n",
    "        ))\n",
    "        return objets[index_objet][\"prix\"]/cour_credit_republicain\n",
    "    except IndexError:\n",
    "        print(\"`Ce qui n'est pas dans nos collections n'existe pas`\")\n",
    "        return None\n",
    "    except KeyError:\n",
    "        print(\"L'objet {} n'a pas toutes les données nécessaires\".format(index_objet))\n",
    "        return None\n",
    "\n",
    "convertir(0)\n",
    "print(\"---\")\n",
    "convertir(1)\n",
    "print(\"---\")\n",
    "convertir(3)\n",
    "print(\"---\")\n",
    "convertir(2, 0)\n"
   ]
  },
  {
   "cell_type": "markdown",
   "metadata": {},
   "source": [
    "### Récupérer l'erreur et la relancer\n",
    "\n",
    "Il peut être intéressant de récupérer l'erreur et de la relance : imaginons que nous avons un bloc de gestion de données et qu'une erreur arrive après avoir déjà traîté un gros nombre de données. On pourrait alors sauvegarder ce que l'on a, puis lancer l'erreur pour faire du debuggage."
   ]
  },
  {
   "cell_type": "code",
   "execution_count": null,
   "metadata": {},
   "outputs": [],
   "source": [
    "try:\n",
    "    print(liste[3])\n",
    "except Exception as ma_variable_erreur:\n",
    "    print(\"Je me suis trompé !\")\n",
    "    raise ma_variable_erreur"
   ]
  },
  {
   "cell_type": "markdown",
   "metadata": {},
   "source": [
    "#### Lecture de code :\n",
    "\n",
    "- On ajoute Exception qui permet de cibler toutes les erreurs. Cela pourrait être une erreur spécifique\n",
    "    - On stocke cette erreur via `as nom_de_variable`\n",
    "- On fait toutes les opérations que l'on veut\n",
    "- On utilise ensuite `raise` avec l'erreur à lancer"
   ]
  },
  {
   "cell_type": "markdown",
   "metadata": {},
   "source": [
    "### Important\n",
    "\n",
    "La gestion d'erreur ne devrait être utilisée qu'en cas de force majeur ! Elle est en effet plus consommatrice que des simples `if`-`else` : tant que vous pouvez le prévoir, tentez de couvrir votre code via des conditions et non des `try-except`"
   ]
  },
  {
   "cell_type": "markdown",
   "metadata": {},
   "source": [
    "### Exercice\n",
    "\n",
    "Le code suivant peut créer une erreur :\n",
    "\n",
    "```python\n",
    "lieux = {\n",
    "    0: {\n",
    "        \"nom\": \"Col. Lugdunum\",\n",
    "        \"moderne\": \"Lyon\",\n",
    "        \"latlong\": [45.762095775, 4.822438025],\n",
    "        \"type\": \"ville\",\n",
    "        \"description\": \"Col. Lugdunum was a Roman military colony from 43 BC and a major center in Gaul. Marcus \"\n",
    "                       \"Agrippa was involved in its expansion and two Roman emperors, Claudius and Caracalla, \"\n",
    "                       \"were born there.\"\n",
    "    },\n",
    "    1: {\n",
    "        \"nom\": \"Samarobriva Ambianorum\",\n",
    "        \"moderne\": \"Amiens\",\n",
    "        \"type\": \"ville\",\n",
    "        \"description\": \"An ancient place, cited: BAtlas 11 C3 Samarobriva Ambianorum \",\n",
    "        \"latlong\": [49.8936075, 2.297948]\n",
    "    }\n",
    "}\n",
    "@app.route(\"/place/<int:place_id>\")\n",
    "def lieu(place_id):\n",
    "    return render_template(\"pages/place.html\", nom=\"Gazetteer\", lieu=lieux[place_id])\n",
    "```\n",
    "\n",
    "1. Pouvez-vous dire dans quelles conditions ?\n",
    "2. Récupérez le nom de l'erreur\n",
    "3. Ajoutez un `try-except`\n",
    "    4. Quel code HTTP devriez-vous rajouter ?"
   ]
  }
 ],
 "metadata": {
  "kernelspec": {
   "display_name": "Python 3",
   "language": "python",
   "name": "python3"
  },
  "language_info": {
   "codemirror_mode": {
    "name": "ipython",
    "version": 3
   },
   "file_extension": ".py",
   "mimetype": "text/x-python",
   "name": "python",
   "nbconvert_exporter": "python",
   "pygments_lexer": "ipython3",
   "version": "3.5.2"
  }
 },
 "nbformat": 4,
 "nbformat_minor": 1
}
