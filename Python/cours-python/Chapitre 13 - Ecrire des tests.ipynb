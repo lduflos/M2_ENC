{
 "cells": [
  {
   "cell_type": "markdown",
   "metadata": {},
   "source": [
    "Chapitre 13 - Ecrire des tests\n",
    "===\n",
    "\n",
    "Si nous avons couvert l'écriture de tests dans d'autres cours et dans quelques discussions, la rédaction de test reste encore quelque peu un mystère. Et pour cause.\n",
    "\n",
    "Les tests cherchent à vérifier un ensemble de fonctionnement :\n",
    "- les blocs programmés, pris séparément, fonctionnent correctement\n",
    "- ces blocs interagissent correctement les uns avec les autres\n",
    "- (pour les applications graphiques) la partie graphique de l'application interagit correctement avec la partie \"cachée\"\n",
    "- les modifications futures - y compris par des tiers - ne provoquent pas d'erreur\n",
    "\n",
    "## Les tests en python \n",
    "\n",
    "### Le choix des armes\n",
    "\n",
    "Nous avons vu pour l'instant une solution très basique pour faire ce genre de travail :"
   ]
  },
  {
   "cell_type": "code",
   "execution_count": null,
   "metadata": {},
   "outputs": [],
   "source": [
    "def carre(x):\n",
    "    \"\"\" Calcul un carré\n",
    "    \n",
    "    :param x: Nombre à mettre en puissance\n",
    "    :type x: int\n",
    "    :returns: Carré du nombre\n",
    "    :rtype: int\n",
    "    \"\"\"\n",
    "    return x**2  # On en profite pour découvrir la fonction `**` qui permet de mettre à la puisse qui suit. x**3 = x*x*x\n",
    "\n",
    "assert carre(8) == 64\n",
    "assert carre(3) == 9"
   ]
  },
  {
   "cell_type": "markdown",
   "metadata": {},
   "source": [
    "Si tout fonctionne, `assert` ne nous dit rien. Si par hasard nous avons une erreur, la fonction `assert` va simplement créer une erreur et stopper le reste du code. Malheureusement, cela n'est pas très pratique à l'échelle d'une application. Par exemple, si un seul test ne fonctionne pas, `assert` ne nous avertira pas des autres erreurs, ce qui empêchera une vision d'ensemble.\n",
    "\n",
    "Pour python, heureusement, il existe des librairies plus complètes :\n",
    "- `unittest` qui est incluse par défaut dans python\n",
    "- `nosetest` qui est installable via `pypi` et qui est rétro-compatible avec `unittest`\n",
    "- `py.test` qui est moins verbeux que les deux précédents et utilise beaucoup `assert`\n",
    "\n",
    "Dans le cadre de ce cours, nous verrons le premier **unittest**. Sachez cependant que ce choix peut varier suivant :\n",
    "- les préférences locales de votre équipe\n",
    "- le besoin d'options complexes"
   ]
  },
  {
   "cell_type": "markdown",
   "metadata": {},
   "source": [
    "### `Unittest`\n",
    "\n",
    "Unittest est très facile à utiliser. Nous devons: \n",
    "1. Créer une classe dérivée de `unittest.TestCase`\n",
    "2. Créer des fonctions commencant par `test_`\n",
    "3. Utiliser des termes vérifiant les égalités tels que `assertEqual(x,y, message=None)`, `assertGreaterThan()`, etc.\n",
    "\n",
    "Prenons comme exemple notre fonction précédente"
   ]
  },
  {
   "cell_type": "code",
   "execution_count": null,
   "metadata": {},
   "outputs": [],
   "source": [
    "import unittest\n",
    "\n",
    "class TestCarre(unittest.TestCase):\n",
    "    \"\"\" Test l'ensemble des fonctions pour carré \"\"\"\n",
    "    \n",
    "    def test_calcul_correct(self):\n",
    "        self.assertEqual(carre(8), 64)\n",
    "        self.assertEqual(carre(3), 9)\n",
    "        self.assertEqual(carre(-1), 1)\n",
    "        for x in range(9):\n",
    "            self.assertEqual(carre(x), carre(-x))\n",
    "            \n",
    "    def test_erreur_quand_non_numeric(self):\n",
    "        with self.assertRaises(TypeError):\n",
    "            # Ne fonctionnera que si l'erreur TypeError est lancée\n",
    "            carre(\"Ca va pas marcher...\")\n",
    "            \n",
    "    def test_accepte_decimaux(self):\n",
    "        \"\"\"Le carré d'un décimal devrait être bien calculé\"\"\"\n",
    "        self.assertEqual(carre(0.1), 0.01)"
   ]
  },
  {
   "cell_type": "markdown",
   "metadata": {},
   "source": [
    "On peut lancer ces tests directement en python (on verra cependant plus tard qu'on ne les lance que rarement comme cela):"
   ]
  },
  {
   "cell_type": "code",
   "execution_count": null,
   "metadata": {},
   "outputs": [],
   "source": [
    "unittest.main(argv=['first-arg-is-ignored'], exit=False)"
   ]
  },
  {
   "cell_type": "markdown",
   "metadata": {},
   "source": [
    "On voit ici 3 choses :\n",
    "- une fonction peut contenir une ou plusieurs assertions\n",
    "- certaines assertions comme `assertRaises` s'utilise surtout avec `with`\n",
    "- quand un test échoue, des détails sont donnés. Ici on se rend compte que les calculs ne sont pas si faciles quand il est question de décimaux...\n",
    "\n",
    "#### Les assertions de `unittest`\n",
    "\n",
    "| Method                    \t| Checks that                                                                  \t|\n",
    "|---------------------------\t|------------------------------------------------------------------------------\t|\n",
    "| assertEqual(a,b)          \t| a == b                                                                       \t|\n",
    "| assertNotEqual(a,b)       \t| a != b                                                                       \t|\n",
    "| assertTrue(x)             \t| bool(x) is True                                                              \t|\n",
    "| assertFalse(x)            \t| bool(x) is False                                                             \t|\n",
    "| assertIs(a,b)             \t| a is b                                                                       \t|\n",
    "| assertIsNot(a,b)          \t| a is not b                                                                   \t|\n",
    "| assertIsNone(x)           \t| x is None                                                                    \t|\n",
    "| assertIsNotNone(x)        \t| x is not None                                                                \t|\n",
    "| assertIn(a,b)             \t| a in b                                                                       \t|\n",
    "| assertNotIn(a,b)          \t| a not in b                                                                   \t|\n",
    "| assertIsInstance(a,b)     \t| isinstance(a, b)                                                             \t|\n",
    "| assertNotIsInstance(a,b)  \t| not isinstance(a, b)                                                         \t|\n",
    "| assertAlmostEqual(a,b)    \t| round(a-b, 7) == 0                                                           \t|\n",
    "| assertNotAlmostEqual(a,b) \t| round(a-b, 7) != 0                                                           \t|\n",
    "| assertGreater(a,b)        \t| a > b                                                                        \t|\n",
    "| assertGreaterEqual(a,b)   \t| a >= b                                                                       \t|\n",
    "| assertLess(a,b)           \t| a < b                                                                        \t|\n",
    "| assertLessEqual(a,b)      \t| a <= b                                                                       \t|\n",
    "| assertRegex(s,r)          \t| r.search(s)                                                                  \t|\n",
    "| assertNotRegex(s,r)       \t| not r.search(s)                                                              \t|\n",
    "| assertCountEqual(a,b)     \t| a et b sont égaux : même nombre d'éléments et mêmes éléments quelque soit leur ordre \t|"
   ]
  },
  {
   "cell_type": "markdown",
   "metadata": {},
   "source": [
    "#### Mais si on ne les lance pas comme ca...\n",
    "\n",
    "Comment les lance-t-on ? Typiquement, les dossiers de développement ressembleront à ca : \n",
    "\n",
    "- Dossier de travail\n",
    "    - dossier_application (Module principal)\n",
    "    - tests (Module des tests)\n",
    "    - docs (dossier avec la documentation )\n",
    "    - run.py ou app.py ou autre nom qui fait sens (outil pour lancer l'application)\n",
    "    - env (Environnement virtuel qui sera soigneusement ignoré dans un gitignore)\n",
    "    - README.md\n",
    "    - LICENSE.md\n",
    "    - .gitignore ( [Exemple pour python](https://raw.githubusercontent.com/github/gitignore/master/Python.gitignore)\n",
    "\n",
    "Dans ce cadre là, on fera généralement :\n",
    "\n",
    "```shell\n",
    "cd DOSSIER_DE_TRAVAIL\n",
    "source env/bin/activate\n",
    "python -m unittest discover tests # Où `tests` est le module qui contient les tests\n",
    "```"
   ]
  },
  {
   "cell_type": "markdown",
   "metadata": {},
   "source": [
    "## Concepts fondamentaux de la rédaction de test\n",
    "\n",
    "### Tests unitaires, tests d'intégration\n",
    "\n",
    "> Dans le test unitaire, on vérifie le bon fonctionnement d'une partie précise d'un logiciel ou d'une portion d'un programme (appelée « unité » ou « module ») ; dans le test d’intégration, chacun des modules indépendants du logiciel est assemblé et testé \\[comme\\] ensemble.\n",
    "> https://fr.wikipedia.org/wiki/Test_d%27int%C3%A9gration\n",
    "\n",
    "### `setUp` et `tearDown`\n",
    "\n",
    "Les fonctions de mise en place et de destruction sont des fonctions qui seront lancées avant chacun des tests d'une classe. Elle permette par exemple de générer une application et de tester cette application plusieurs fois. Ou de rentrer des données dans une base de données.\n",
    "\n",
    "Exemple en mi-pseudocode mi-python  :\n",
    "\n",
    "\n",
    "```python\n",
    "class TestMiseAJourRessources(TestCase):\n",
    "    def setUp(self):\n",
    "        self.application = gazetteer\n",
    "        self.user = gazetteer.User.Johanna\n",
    "        self.application.login(self.user)\n",
    "        \n",
    "    def tearDown(self):\n",
    "        try:\n",
    "            self.application.logout(self.user)\n",
    "        except:\n",
    "            pass\n",
    "        \n",
    "    def test_update(self):\n",
    "        self.application.route.update_item(1).nom = \"Rome\"\n",
    "        self.assertEqual(self.application.item(1).nom, \"Rome\")\n",
    "            \n",
    "    def test_erreur_non_loguee(self):\n",
    "        self.application.logout(self.user)\n",
    "        with self.assertRaises(Forbidden):\n",
    "            self.application.route.update_item(1).nom = \"Rome\"\n",
    "        self.assertEqual(self.application.item(1).nom, \"Roma\")\n",
    "```\n",
    "\n",
    "### Les `Fixtures`\n",
    "\n",
    "Les `fixtures` sont des données pour une base de données temporaire qui permettront de vérifier la validité des tests.\n",
    "\n",
    "### Les `Mocks`\n",
    "\n",
    "Un mock est une fonction qui va venir remplacer une autre fonction capable d'échouer. Très souvent, ces `Mocks` viennent aider à tester des services externes tels que des APIs hébergées par d'autres sites qui pourraient ne pas apprécier d'être la source de tests.\n",
    "\n",
    "Nous n'aborderons pas les mocks ici mais vous pouvez trouver quelques tutoriaux en ligne :\n",
    "- http://python-mock-tutorial.readthedocs.io/en/latest/introduction.html\n",
    "- https://realpython.com/blog/python/testing-third-party-apis-with-mocks"
   ]
  },
  {
   "cell_type": "markdown",
   "metadata": {},
   "source": [
    "## Tests et Flask"
   ]
  },
  {
   "cell_type": "code",
   "execution_count": null,
   "metadata": {},
   "outputs": [],
   "source": []
  }
 ],
 "metadata": {
  "kernelspec": {
   "display_name": "Python 3",
   "language": "python",
   "name": "python3"
  },
  "language_info": {
   "codemirror_mode": {
    "name": "ipython",
    "version": 3
   },
   "file_extension": ".py",
   "mimetype": "text/x-python",
   "name": "python",
   "nbconvert_exporter": "python",
   "pygments_lexer": "ipython3",
   "version": "3.5.2"
  }
 },
 "nbformat": 4,
 "nbformat_minor": 2
}
