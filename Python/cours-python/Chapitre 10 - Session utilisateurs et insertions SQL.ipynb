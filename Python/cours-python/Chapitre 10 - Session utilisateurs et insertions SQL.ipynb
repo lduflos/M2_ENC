{
 "cells": [
  {
   "cell_type": "markdown",
   "metadata": {},
   "source": [
    "Chapitre 10 - Session utilisations et Insertions SQL\n",
    "===\n",
    "\n",
    "[Aller plus loin](https://blog.miguelgrinberg.com/post/the-flask-mega-tutorial-part-iii-web-forms)"
   ]
  }
 ],
 "metadata": {
  "kernelspec": {
   "display_name": "Python 3",
   "language": "python",
   "name": "python3"
  },
  "language_info": {
   "codemirror_mode": {
    "name": "ipython",
    "version": 3
   },
   "file_extension": ".py",
   "mimetype": "text/x-python",
   "name": "python",
   "nbconvert_exporter": "python",
   "pygments_lexer": "ipython3",
   "version": "3.5.2"
  }
 },
 "nbformat": 4,
 "nbformat_minor": 2
}
